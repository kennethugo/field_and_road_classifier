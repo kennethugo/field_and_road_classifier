{
 "cells": [
  {
   "cell_type": "code",
   "execution_count": 69,
   "metadata": {},
   "outputs": [
    {
     "name": "stdout",
     "output_type": "stream",
     "text": [
      "Requirement already satisfied: imbalanced-learn in c:\\users\\hp\\anaconda3\\lib\\site-packages (0.11.0)\n",
      "Requirement already satisfied: numpy>=1.17.3 in c:\\users\\hp\\anaconda3\\lib\\site-packages (from imbalanced-learn) (1.19.2)\n",
      "Requirement already satisfied: scipy>=1.5.0 in c:\\users\\hp\\anaconda3\\lib\\site-packages (from imbalanced-learn) (1.5.2)\n",
      "Requirement already satisfied: scikit-learn>=1.0.2 in c:\\users\\hp\\anaconda3\\lib\\site-packages (from imbalanced-learn) (1.3.0)\n",
      "Requirement already satisfied: joblib>=1.1.1 in c:\\users\\hp\\anaconda3\\lib\\site-packages (from imbalanced-learn) (1.3.1)\n",
      "Requirement already satisfied: threadpoolctl>=2.0.0 in c:\\users\\hp\\anaconda3\\lib\\site-packages (from imbalanced-learn) (2.1.0)\n"
     ]
    }
   ],
   "source": [
    "!pip install imbalanced-learn\n"
   ]
  },
  {
   "cell_type": "code",
   "execution_count": null,
   "metadata": {},
   "outputs": [],
   "source": [
    "from imblearn.over_sampling import SMOTE\n",
    "from imblearn.over_sampling import BorderlineSMOTE\n",
    "import os\n",
    "import cv2\n",
    "import numpy as np"
   ]
  },
  {
   "cell_type": "code",
   "execution_count": null,
   "metadata": {},
   "outputs": [],
   "source": [
    "Directory = \"dataset/field_and_road\""
   ]
  },
  {
   "cell_type": "code",
   "execution_count": 150,
   "metadata": {},
   "outputs": [],
   "source": [
    "# Load and preprocess the images\n",
    "def load_images(directory, label):\n",
    "    images = []\n",
    "    for filename in os.listdir(directory):\n",
    "        img = cv2.imread(os.path.join(directory, filename))\n",
    "        if img is not None:\n",
    "            img = cv2.resize(img, (224, 224))  # Resize to MobileNetV2 input size\n",
    "            images.append(img)\n",
    "    return np.array(images), np.full(len(images), label)\n",
    "\n",
    "field_dir = \"dataset/field_and_road/field\"\n",
    "road_dir = \"dataset/field_and_road/road\"\n",
    "\n",
    "field_images, field_labels = load_images(field_dir, label=1)  # Assign class label 1 for \"field\"\n",
    "road_images, road_labels = load_images(road_dir, label=0)     # Assign class label 0 for \"road\"\n",
    "\n",
    "# Combine the images and labels\n",
    "all_images = np.concatenate((field_images, road_images), axis=0)\n",
    "all_labels = np.concatenate((field_labels, road_labels), axis=0)\n",
    "\n",
    "# Apply Borderline-SMOTE oversampling to the \"field\" class\n",
    "smote = BorderlineSMOTE(sampling_strategy='auto', random_state=42)\n",
    "field_resampled, field_resampled_labels = smote.fit_resample(all_images.reshape(-1, 224*224*3), all_labels)\n",
    "\n",
    "# Save the resampled images to a directory\n",
    "output_dir = \"dataset/oversampled_field\"\n",
    "os.makedirs(output_dir, exist_ok=True)\n",
    "\n",
    "for i, img in enumerate(field_resampled):\n",
    "\n",
    "    cv2.imwrite(os.path.join(output_dir, f\"field_image_{i}.jpg\"), img.reshape(224, 224, 3))"
   ]
  }
 ],
 "metadata": {
  "kernelspec": {
   "display_name": "Python 3",
   "language": "python",
   "name": "python3"
  },
  "language_info": {
   "codemirror_mode": {
    "name": "ipython",
    "version": 3
   },
   "file_extension": ".py",
   "mimetype": "text/x-python",
   "name": "python",
   "nbconvert_exporter": "python",
   "pygments_lexer": "ipython3",
   "version": "3.8.5"
  }
 },
 "nbformat": 4,
 "nbformat_minor": 4
}
